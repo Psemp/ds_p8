{
 "cells": [
  {
   "cell_type": "code",
   "execution_count": 1,
   "metadata": {},
   "outputs": [
    {
     "name": "stderr",
     "output_type": "stream",
     "text": [
      "\u001b[32m\u001b[1m  Activating\u001b[22m\u001b[39m project at `~/git/ds_p8/project_8_jl_env`\n"
     ]
    }
   ],
   "source": [
    "using Pkg\n",
    "Pkg.activate(\"../project_8_jl_env\")\n"
   ]
  },
  {
   "cell_type": "code",
   "execution_count": 2,
   "metadata": {},
   "outputs": [
    {
     "name": "stdout",
     "output_type": "stream",
     "text": [
      "CUDA runtime 12.1, artifact installation\n",
      "CUDA driver 12.0\n",
      "NVIDIA driver 525.105.17\n",
      "\n",
      "Libraries: \n",
      "- CUBLAS: 12.1.0\n",
      "- CURAND: 10.3.2\n",
      "- CUFFT: 11.0.2\n",
      "- CUSOLVER: "
     ]
    },
    {
     "name": "stdout",
     "output_type": "stream",
     "text": [
      "11.4.4\n",
      "- CUSPARSE: 12.0.2\n",
      "- CUPTI: 18.0.0\n",
      "- NVML: 12.0.0+525.105.17\n",
      "\n",
      "Toolchain:\n",
      "- Julia: 1.8.5\n",
      "- LLVM: 13.0.1\n"
     ]
    },
    {
     "name": "stdout",
     "output_type": "stream",
     "text": [
      "- PTX ISA support: 3.2, 4.0, 4.1, 4.2, 4.3, 5.0, 6.0, 6.1, 6.3, 6.4, 6.5, 7.0, 7.1, 7.2\n",
      "- Device capability support: sm_37, sm_50, sm_52, sm_53, sm_60, sm_61, sm_62, sm_70, sm_72, sm_75, sm_80, sm_86\n",
      "\n",
      "1 device:\n",
      "  0: NVIDIA GeForce RTX 3080 (sm_86, 9.021 GiB / 10.000 GiB available)\n"
     ]
    }
   ],
   "source": [
    "using CUDA\n",
    "using Base.Threads\n",
    "\n",
    "CUDA.versioninfo()\n"
   ]
  },
  {
   "cell_type": "code",
   "execution_count": 3,
   "metadata": {},
   "outputs": [
    {
     "data": {
      "text/plain": [
       "CUDA.DeviceIterator() for 1 devices:\n",
       "0. NVIDIA GeForce RTX 3080"
      ]
     },
     "metadata": {},
     "output_type": "display_data"
    }
   ],
   "source": [
    "CUDA.devices()\n"
   ]
  },
  {
   "cell_type": "code",
   "execution_count": 4,
   "metadata": {},
   "outputs": [
    {
     "data": {
      "text/plain": [
       "main (generic function with 1 method)"
      ]
     },
     "metadata": {},
     "output_type": "display_data"
    }
   ],
   "source": [
    "function benchmark_gpu(n, iterations)\n",
    "    A = cu(rand(Float32, n, n))\n",
    "    B = cu(rand(Float32, n, n))\n",
    "    for _ in 1:iterations\n",
    "        C = A * B\n",
    "    end\n",
    "end\n",
    "\n",
    "function main(n_gpu, iterations_gpu)\n",
    "    if has_cuda_gpu()\n",
    "        println(\"Starting GPU benchmark...\")\n",
    "        gpu_time = @elapsed benchmark_gpu(n_gpu, iterations_gpu)\n",
    "        return gpu_time\n",
    "    else\n",
    "        println(\"No CUDA-compatible GPU found.\")\n",
    "        return nothing\n",
    "    end\n",
    "end\n"
   ]
  },
  {
   "cell_type": "code",
   "execution_count": 5,
   "metadata": {},
   "outputs": [
    {
     "name": "stdout",
     "output_type": "stream",
     "text": [
      "Starting GPU benchmark...\n"
     ]
    },
    {
     "name": "stdout",
     "output_type": "stream",
     "text": [
      "GPU benchmark time: 38.156412744 seconds\n"
     ]
    }
   ],
   "source": [
    "n_gpu = 2 * 8192\n",
    "iterations_gpu = 80\n",
    "gpu_time = main(n_gpu, iterations_gpu)\n",
    "\n",
    "if gpu_time !== nothing\n",
    "    println(\"GPU benchmark time: \", gpu_time, \" seconds\")\n",
    "end\n"
   ]
  },
  {
   "cell_type": "code",
   "execution_count": 6,
   "metadata": {},
   "outputs": [],
   "source": []
  }
 ],
 "metadata": {
  "kernelspec": {
   "display_name": "Julia 1.8.5",
   "language": "julia",
   "name": "julia-1.8"
  },
  "language_info": {
   "file_extension": ".jl",
   "mimetype": "application/julia",
   "name": "julia",
   "version": "1.8.5"
  },
  "orig_nbformat": 4
 },
 "nbformat": 4,
 "nbformat_minor": 2
}
