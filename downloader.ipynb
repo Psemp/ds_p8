{
 "cells": [
  {
   "cell_type": "code",
   "execution_count": 1,
   "metadata": {},
   "outputs": [],
   "source": [
    "import os\n",
    "import requests\n",
    "import pandas as pd\n",
    "import concurrent.futures\n"
   ]
  },
  {
   "attachments": {},
   "cell_type": "markdown",
   "metadata": {},
   "source": [
    "## Downloads and recreates the original structure from s3 (use s3 to https first)\n",
    "- Uses threading to speed up the process (I/O bound operation, no MP necessary)\n",
    "- change the variable \"output_directory\" to the destination directory\n",
    "- default is test_download, the program will create it if not exists"
   ]
  },
  {
   "cell_type": "code",
   "execution_count": 2,
   "metadata": {},
   "outputs": [],
   "source": [
    "df = pd.read_csv(filepath_or_buffer=\"results_csv/html_fruits.csv\")\n"
   ]
  },
  {
   "cell_type": "code",
   "execution_count": 3,
   "metadata": {},
   "outputs": [],
   "source": [
    "urls = df[\"url\"].values.tolist()\n",
    "output_directory = \"test_download\"\n",
    "if not os.path.exists(path=output_directory):\n",
    "    os.makedirs(output_directory)\n"
   ]
  },
  {
   "cell_type": "code",
   "execution_count": 4,
   "metadata": {},
   "outputs": [],
   "source": [
    "def download_and_categorize(image_url):\n",
    "    \"\"\"\n",
    "    Downloads and saves an image based on its url, assuming :\n",
    "    url.split(\"/\")[-2] is category and url.split(\"/\")[-1] is name\n",
    "    Creates directory with category name if not exists, saves the image.\n",
    "\n",
    "    Args:\n",
    "    - image_url : url of an image, with : url.split(\"/\")[-2] = category && url.split(\"/\")[-1] = name\n",
    "    \"\"\"\n",
    "\n",
    "    image_bin = requests.get(image_url).content\n",
    "    url_split = image_url.split(\"/\")\n",
    "    category = url_split[-2]\n",
    "    name = url_split[-1]\n",
    "    if not os.path.exists(path=f\"{output_directory}/{category}/\"):\n",
    "        os.makedirs(f\"{output_directory}/{category}/\")\n",
    "    with open(f\"{output_directory}/{category}/{name}\", \"wb\") as image_file:\n",
    "        image_file.write(image_bin)\n",
    "\n"
   ]
  },
  {
   "cell_type": "code",
   "execution_count": 5,
   "metadata": {},
   "outputs": [],
   "source": [
    "# Downloads with concurrency\n",
    "with concurrent.futures.ThreadPoolExecutor() as executor:\n",
    "    executor.map(download_and_categorize, urls)\n"
   ]
  }
 ],
 "metadata": {
  "kernelspec": {
   "display_name": "env",
   "language": "python",
   "name": "python3"
  },
  "language_info": {
   "codemirror_mode": {
    "name": "ipython",
    "version": 3
   },
   "file_extension": ".py",
   "mimetype": "text/x-python",
   "name": "python",
   "nbconvert_exporter": "python",
   "pygments_lexer": "ipython3",
   "version": "3.10.4"
  },
  "orig_nbformat": 4
 },
 "nbformat": 4,
 "nbformat_minor": 2
}
